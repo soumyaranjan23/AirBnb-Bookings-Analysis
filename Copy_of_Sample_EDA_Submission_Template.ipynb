{
  "nbformat": 4,
  "nbformat_minor": 0,
  "metadata": {
    "colab": {
      "private_outputs": true,
      "provenance": [],
      "collapsed_sections": [
        "vncDsAP0Gaoa",
        "FJNUwmbgGyua",
        "w6K7xa23Elo4",
        "yQaldy8SH6Dl",
        "PH-0ReGfmX4f",
        "mDgbUHAGgjLW",
        "O_i_v8NEhb9l",
        "HhfV-JJviCcP",
        "Y3lxredqlCYt",
        "3RnN4peoiCZX",
        "x71ZqKXriCWQ",
        "7hBIi_osiCS2",
        "JlHwYmJAmNHm",
        "35m5QtbWiB9F",
        "PoPl-ycgm1ru",
        "H0kj-8xxnORC",
        "nA9Y7ga8ng1Z",
        "PBTbrJXOngz2",
        "u3PMJOP6ngxN",
        "dauF4eBmngu3",
        "bKJF3rekwFvQ",
        "MSa1f5Uengrz",
        "GF8Ens_Soomf",
        "0wOQAZs5pc--",
        "K5QZ13OEpz2H",
        "lQ7QKXXCp7Bj",
        "448CDAPjqfQr",
        "KSlN3yHqYklG",
        "t6dVpIINYklI",
        "ijmpgYnKYklI",
        "-JiQyfWJYklI",
        "EM7whBJCYoAo",
        "fge-S5ZAYoAp",
        "85gYPyotYoAp",
        "RoGjAbkUYoAp",
        "4Of9eVA-YrdM",
        "iky9q4vBYrdO",
        "F6T5p64dYrdO",
        "y-Ehk30pYrdP",
        "bamQiAODYuh1",
        "QHF8YVU7Yuh3",
        "GwzvFGzlYuh3",
        "qYpmQ266Yuh3",
        "OH-pJp9IphqM",
        "bbFf2-_FphqN",
        "_ouA3fa0phqN",
        "Seke61FWphqN",
        "PIIx-8_IphqN",
        "t27r6nlMphqO",
        "r2jJGEOYphqO",
        "b0JNsNcRphqO",
        "BZR9WyysphqO",
        "jj7wYXLtphqO",
        "eZrbJ2SmphqO",
        "rFu4xreNphqO",
        "YJ55k-q6phqO",
        "gCFgpxoyphqP",
        "OVtJsKN_phqQ",
        "lssrdh5qphqQ",
        "U2RJ9gkRphqQ",
        "1M8mcRywphqQ",
        "tgIPom80phqQ",
        "JMzcOPDDphqR",
        "x-EpHcCOp1ci",
        "X_VqEhTip1ck",
        "8zGJKyg5p1ck",
        "PVzmfK_Ep1ck",
        "n3dbpmDWp1ck",
        "ylSl6qgtp1ck",
        "ZWILFDl5p1ck",
        "M7G43BXep1ck",
        "Ag9LCva-p1cl",
        "E6MkPsBcp1cl",
        "2cELzS2fp1cl",
        "3MPXvC8up1cl",
        "NC_X3p0fY2L0",
        "UV0SzAkaZNRQ",
        "YPEH6qLeZNRQ",
        "q29F0dvdveiT",
        "EXh0U9oCveiU",
        "22aHeOlLveiV",
        "JcMwzZxoAimU",
        "8G2x9gOozGDZ",
        "gCX9965dhzqZ",
        "gIfDvo9L0UH2"
      ],
      "include_colab_link": true
    },
    "kernelspec": {
      "name": "python3",
      "display_name": "Python 3"
    },
    "language_info": {
      "name": "python"
    }
  },
  "cells": [
    {
      "cell_type": "markdown",
      "metadata": {
        "id": "view-in-github",
        "colab_type": "text"
      },
      "source": [
        "<a href=\"https://colab.research.google.com/github/soumyaranjan23/AirBnb-Bookings-Analysis/blob/main/Copy_of_Sample_EDA_Submission_Template.ipynb\" target=\"_parent\"><img src=\"https://colab.research.google.com/assets/colab-badge.svg\" alt=\"Open In Colab\"/></a>"
      ]
    },
    {
      "cell_type": "markdown",
      "source": [
        "# **Project Name**    -  **AirBnb Bookings Analysis**\n",
        "\n"
      ],
      "metadata": {
        "id": "vncDsAP0Gaoa"
      }
    },
    {
      "cell_type": "markdown",
      "source": [
        "##### **Project Type**    - EDA\n",
        "##### **Contribution**    - Individual\n",
        "**Name** - Soumya Ranjan Panigrahi \n",
        "\n",
        "\n"
      ],
      "metadata": {
        "id": "beRrZCGUAJYm"
      }
    },
    {
      "cell_type": "markdown",
      "source": [
        "# **Project Summary -**"
      ],
      "metadata": {
        "id": "FJNUwmbgGyua"
      }
    },
    {
      "cell_type": "markdown",
      "source": [
        "# **AirbedandBreakfast : Airbnb**\n",
        "\n",
        "![images.png](data:image/png;base64,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)"
      ],
      "metadata": {
        "id": "y2s_6GsiM1CA"
      }
    },
    {
      "cell_type": "markdown",
      "source": [
        "\n",
        "# **Since 2008, guests and hosts have used Airbnb to expand on traveling possibilities and present a more unique, personalized way of experiencing the world. Today, Airbnb became one of a kind service that is used and recognized by the whole world. Data analysis on millions of listings provided through Airbnb is a crucial factor for the company. These millions of listings generate a lot of data - data that can be analyzed and used for security, business decisions, understanding of customers' and providers' (hosts) behavior and performance on the platform, guiding marketing initiatives, implementation of innovative additional services and much more.**"
      ],
      "metadata": {
        "id": "F6v_1wHtG2nS"
      }
    },
    {
      "cell_type": "markdown",
      "source": [
        "# **This dataset has around 49,000 observations in it with 16 columns and it is a mix between categorical and numeric values.**"
      ],
      "metadata": {
        "id": "kqFZOohmNQEm"
      }
    },
    {
      "cell_type": "markdown",
      "source": [
        "# **GitHub Link -**"
      ],
      "metadata": {
        "id": "w6K7xa23Elo4"
      }
    },
    {
      "cell_type": "markdown",
      "source": [
        "https://github.com/soumyaranjan23"
      ],
      "metadata": {
        "id": "h1o69JH3Eqqn"
      }
    },
    {
      "cell_type": "markdown",
      "source": [
        "# **Problem Statement**\n"
      ],
      "metadata": {
        "id": "yQaldy8SH6Dl"
      }
    },
    {
      "cell_type": "markdown",
      "source": [
        "# **Explore and analyze the data to discover key understandings (not limited to these) such as :**\n",
        "* What can we learn about different hosts and areas?\n",
        "* Which hosts are the busiest and why?\n",
        "* Is there any noticeable difference of traffic among different areas and what could be the reason for it?"
      ],
      "metadata": {
        "id": "DpeJGUA3kjGy"
      }
    },
    {
      "cell_type": "markdown",
      "source": [
        "#### **Define Your Business Objective?**"
      ],
      "metadata": {
        "id": "PH-0ReGfmX4f"
      }
    },
    {
      "cell_type": "markdown",
      "source": [
        "The mission is to Create a world where anyone can belong anywhere."
      ],
      "metadata": {
        "id": "PhDvGCAqmjP1"
      }
    },
    {
      "cell_type": "markdown",
      "source": [
        "# **General Guidelines** : -  "
      ],
      "metadata": {
        "id": "mDgbUHAGgjLW"
      }
    },
    {
      "cell_type": "markdown",
      "source": [
        "1.   Well-structured, formatted, and commented code is required. \n",
        "2.   Exception Handling, Production Grade Code & Deployment Ready Code will be a plus. Those students will be awarded some additional credits. \n",
        "     \n",
        "     The additional credits will have advantages over other students during Star Student selection.\n",
        "       \n",
        "             [ Note: - Deployment Ready Code is defined as, the whole .ipynb notebook should be executable in one go\n",
        "                       without a single error logged. ]\n",
        "\n",
        "3.   Each and every logic should have proper comments.\n",
        "4. You may add as many number of charts you want. Make Sure for each and every chart the following format should be answered.\n",
        "        \n",
        "\n",
        "```\n",
        "# Chart visualization code\n",
        "```\n",
        "            \n",
        "\n",
        "*   Why did you pick the specific chart?\n",
        "*   What is/are the insight(s) found from the chart?\n",
        "* Will the gained insights help creating a positive business impact? \n",
        "Are there any insights that lead to negative growth? Justify with specific reason.\n",
        "\n",
        "5. You have to create at least 20 logical & meaningful charts having important insights.\n",
        "\n",
        "\n",
        "[ Hints : - Do the Vizualization in  a structured way while following \"UBM\" Rule. \n",
        "\n",
        "U - Univariate Analysis,\n",
        "\n",
        "B - Bivariate Analysis (Numerical - Categorical, Numerical - Numerical, Categorical - Categorical)\n",
        "\n",
        "M - Multivariate Analysis\n",
        " ]\n",
        "\n",
        "\n",
        "\n"
      ],
      "metadata": {
        "id": "ZrxVaUj-hHfC"
      }
    },
    {
      "cell_type": "markdown",
      "source": [
        "# ***Let's Begin !***"
      ],
      "metadata": {
        "id": "O_i_v8NEhb9l"
      }
    },
    {
      "cell_type": "markdown",
      "source": [
        "## ***1. Know Your Data***"
      ],
      "metadata": {
        "id": "HhfV-JJviCcP"
      }
    },
    {
      "cell_type": "markdown",
      "source": [
        "### Import Libraries"
      ],
      "metadata": {
        "id": "Y3lxredqlCYt"
      }
    },
    {
      "cell_type": "code",
      "source": [
        "# Import Libraries\n",
        "import pandas as pd\n",
        "import numpy as np\n",
        "\n",
        "import seaborn as sns\n",
        "import matplotlib.pyplot as plt\n",
        "sns.set()\n",
        "%matplotlib inline\n",
        "\n",
        "import statistics\n",
        "from collections import Counter\n",
        "\n",
        "#NLP\n",
        "import nltk\n",
        "nltk.download('stopwords')\n",
        "from nltk.corpus import stopwords \n",
        "\n",
        "#word cloud\n",
        "from wordcloud import WordCloud, ImageColorGenerator\n",
        "sns.set_theme(style=\"ticks\", color_codes=True)\n"
      ],
      "metadata": {
        "id": "M8Vqi-pPk-HR"
      },
      "execution_count": null,
      "outputs": []
    },
    {
      "cell_type": "markdown",
      "source": [
        "### Dataset Loading"
      ],
      "metadata": {
        "id": "3RnN4peoiCZX"
      }
    },
    {
      "cell_type": "code",
      "source": [
        "# Load Dataset\n"
      ],
      "metadata": {
        "id": "4CkvbW_SlZ_R"
      },
      "execution_count": null,
      "outputs": []
    },
    {
      "cell_type": "code",
      "source": [
        "from google.colab import drive\n",
        "drive.mount('/content/drive')"
      ],
      "metadata": {
        "id": "kPpNgnN8Svnv"
      },
      "execution_count": null,
      "outputs": []
    },
    {
      "cell_type": "code",
      "source": [
        "data = pd.read_csv (\"/content/drive/MyDrive/Airbnb Booking Analysis/Airbnb NYC 2019.csv\")\n",
        "data.shape"
      ],
      "metadata": {
        "id": "SaLR0wruS831"
      },
      "execution_count": null,
      "outputs": []
    },
    {
      "cell_type": "markdown",
      "source": [
        "### Dataset First View"
      ],
      "metadata": {
        "id": "x71ZqKXriCWQ"
      }
    },
    {
      "cell_type": "code",
      "source": [
        "# Dataset First Look\n",
        "data.head()"
      ],
      "metadata": {
        "id": "LWNFOSvLl09H"
      },
      "execution_count": null,
      "outputs": []
    },
    {
      "cell_type": "markdown",
      "source": [
        "### Dataset Rows & Columns count"
      ],
      "metadata": {
        "id": "7hBIi_osiCS2"
      }
    },
    {
      "cell_type": "code",
      "source": [
        "# Dataset Rows & Columns count\n",
        "print(data.columns)\n",
        "rows=data.shape[0]\n",
        "columns=data.shape[1]\n",
        "print(f\"The number of rows is {rows} and number of columns is {columns}\")"
      ],
      "metadata": {
        "id": "Kllu7SJgmLij"
      },
      "execution_count": null,
      "outputs": []
    },
    {
      "cell_type": "markdown",
      "source": [
        "**Observations**:\n",
        "* There are total 16 columns.\n",
        "* The total number of rows are 48895. "
      ],
      "metadata": {
        "id": "uLqHXv4cVFaO"
      }
    },
    {
      "cell_type": "markdown",
      "source": [
        "### Dataset Information"
      ],
      "metadata": {
        "id": "JlHwYmJAmNHm"
      }
    },
    {
      "cell_type": "code",
      "source": [
        "# Dataset Info\n",
        "data.info()"
      ],
      "metadata": {
        "id": "e9hRXRi6meOf"
      },
      "execution_count": null,
      "outputs": []
    },
    {
      "cell_type": "code",
      "source": [
        "data.isnull().sum()"
      ],
      "metadata": {
        "id": "Kt3gWzQRXllG"
      },
      "execution_count": null,
      "outputs": []
    },
    {
      "cell_type": "markdown",
      "source": [
        "**Observations:**\n",
        "\n",
        "1. There are total four columns with null values.\n",
        "2. name column is having total 16 null values.\n",
        "3. host_name is having 21 null values.\n",
        "4. last_review and reviews_per_mpnth are having more null values.\n",
        "5. We will look at the columns and decide what we can do with them."
      ],
      "metadata": {
        "id": "LAkbCjoIXvGA"
      }
    },
    {
      "cell_type": "markdown",
      "source": [
        "#### Missing Values/Null Values"
      ],
      "metadata": {
        "id": "PoPl-ycgm1ru"
      }
    },
    {
      "cell_type": "code",
      "source": [
        "# Missing Values/Null Values Count\n",
        "Total = data.isnull().sum().sort_values(ascending = False) #total per column\n",
        "missing_values = round(((data.isnull().sum())*100)/data.isnull().count().sort_values(ascending=False),2)\n",
        "#missing_value data frame.\n",
        "missing_total_percentage = pd.concat([Total,missing_values],axis=1,keys = ['Total','Percentage'],sort=False).sort_values('Total',ascending=False)\n",
        "missing_total_percentage"
      ],
      "metadata": {
        "id": "GgHWkxvamxVg"
      },
      "execution_count": null,
      "outputs": []
    },
    {
      "cell_type": "code",
      "source": [
        "# Visualizing the missing values\n",
        "import missingno as msno \n",
        "msno.bar(data)"
      ],
      "metadata": {
        "id": "3q5wnI3om9sJ"
      },
      "execution_count": null,
      "outputs": []
    },
    {
      "cell_type": "markdown",
      "source": [
        "### What did you know about your dataset?"
      ],
      "metadata": {
        "id": "H0kj-8xxnORC"
      }
    },
    {
      "cell_type": "markdown",
      "source": [
        "# **From data analysis point of view host_name will not be that important as its an catagorical feature and will have lots of catagories and this will not contribute in exploring the data and also from security point of view of host**.\n",
        "\n",
        "\n",
        "# **Columns 'last_review' & 'reviews_per_month' are having lots of mission values with 20% of whole data we will replace with 0 for NA values in 'reviews_per_month' column**.\n",
        "\n",
        "\n",
        "# **We will convert its data type to catagorical feature and replace 'NA' with 'never'**.\n",
        "\n",
        "# **reviews_per_month 'NA' value handling**: "
      ],
      "metadata": {
        "id": "gfoNAAC-nUe_"
      }
    },
    {
      "cell_type": "code",
      "source": [
        "data['last_review']"
      ],
      "metadata": {
        "id": "YTahRvcMb49o"
      },
      "execution_count": null,
      "outputs": []
    },
    {
      "cell_type": "code",
      "source": [
        "# to deal with NA in 'last_review', we change the column to a categorical variable (by year), \n",
        "#and those that have NA will be categorised as 'Never', as they did not get any reviews yet\n",
        "# convert the date field\n",
        "data['last_review'].fillna(value = 0, inplace = True)\n",
        "'''\n",
        "data['last_review'] = pd.to_datetime(data['last_review\"], format = '%Y-%m-%d')\n",
        "data.last_review = data['last_review'].dt.year.astype('object')\n",
        "data.last_review.fillna(value = Never, inplace = True)\n",
        "'''"
      ],
      "metadata": {
        "id": "8Iv00K75cFuo"
      },
      "execution_count": null,
      "outputs": []
    },
    {
      "cell_type": "code",
      "source": [
        "data['last_review']"
      ],
      "metadata": {
        "id": "A9ns50gcdT7P"
      },
      "execution_count": null,
      "outputs": []
    },
    {
      "cell_type": "markdown",
      "source": [
        "## ***2. Understanding Your Variables***"
      ],
      "metadata": {
        "id": "nA9Y7ga8ng1Z"
      }
    },
    {
      "cell_type": "code",
      "source": [
        "# Dataset Columns\n",
        "print(data.columns)\n",
        "columns=data.shape[1]\n",
        "print(f\"The number of columns is {columns}.\")"
      ],
      "metadata": {
        "id": "j7xfkqrt5Ag5"
      },
      "execution_count": null,
      "outputs": []
    },
    {
      "cell_type": "code",
      "source": [
        "# Dataset Describe\n",
        "data.describe()"
      ],
      "metadata": {
        "id": "DnOaZdaE5Q5t"
      },
      "execution_count": null,
      "outputs": []
    },
    {
      "cell_type": "markdown",
      "source": [
        "### Variables Description "
      ],
      "metadata": {
        "id": "PBTbrJXOngz2"
      }
    },
    {
      "cell_type": "markdown",
      "source": [
        "**Observations:**\n",
        "\n",
        "1. Min of Price variable is 0, max is 10000.\n",
        "2. Mean price is 152.\n",
        "3. On an average people stay 7 days in a room."
      ],
      "metadata": {
        "id": "aJV4KIxSnxay"
      }
    },
    {
      "cell_type": "markdown",
      "source": [
        "### Check Unique Values for each variable."
      ],
      "metadata": {
        "id": "u3PMJOP6ngxN"
      }
    },
    {
      "cell_type": "code",
      "source": [
        "# Check Unique Values for each variable.\n",
        "data.nunique(axis=0)"
      ],
      "metadata": {
        "id": "zms12Yq5n-jE"
      },
      "execution_count": null,
      "outputs": []
    },
    {
      "cell_type": "markdown",
      "source": [
        "## 3. ***Data Wrangling***"
      ],
      "metadata": {
        "id": "dauF4eBmngu3"
      }
    },
    {
      "cell_type": "markdown",
      "source": [
        "### Data Wrangling Code"
      ],
      "metadata": {
        "id": "bKJF3rekwFvQ"
      }
    },
    {
      "cell_type": "code",
      "source": [
        "# Write your code to make your dataset analysis ready.\n",
        "def datainfo():\n",
        "  temp=pd.DataFrame(index=data.columns)\n",
        "  temp[\"datatype\"]=data.dtypes\n",
        "  temp[\"not null values\"]=data.count()\n",
        "  temp[\"null values\"]=data.isnull().sum()\n",
        "  temp[\"% of the null values\"]=data.isnull().mean()\n",
        "  temp[\"unique count\"]=data.nunique()\n",
        "  return temp \n",
        "datainfo()"
      ],
      "metadata": {
        "id": "wk-9a2fpoLcV"
      },
      "execution_count": null,
      "outputs": []
    },
    {
      "cell_type": "markdown",
      "source": [
        "### What all manipulations have you done and insights you found?"
      ],
      "metadata": {
        "id": "MSa1f5Uengrz"
      }
    },
    {
      "cell_type": "markdown",
      "source": [
        "From the above, we found the datatypes of each rows. And also we found the not null values, null values, % of the null values and unique counts."
      ],
      "metadata": {
        "id": "LbyXE7I1olp8"
      }
    },
    {
      "cell_type": "markdown",
      "source": [
        "## ***4. Data Vizualization, Storytelling & Experimenting with charts : Understand the relationships between variables***"
      ],
      "metadata": {
        "id": "GF8Ens_Soomf"
      }
    },
    {
      "cell_type": "markdown",
      "source": [
        "# **Univariate Analysis:**"
      ],
      "metadata": {
        "id": "hi8H5fQ_h8lH"
      }
    },
    {
      "cell_type": "markdown",
      "source": [
        "#### Chart - 1"
      ],
      "metadata": {
        "id": "0wOQAZs5pc--"
      }
    },
    {
      "cell_type": "code",
      "source": [
        "# Chart - 1 visualization code"
      ],
      "metadata": {
        "id": "7v_ESjsspbW7"
      },
      "execution_count": null,
      "outputs": []
    },
    {
      "cell_type": "markdown",
      "source": [
        "# 1. **`column_no_1:name`**"
      ],
      "metadata": {
        "id": "kbUyaKlAii9C"
      }
    },
    {
      "cell_type": "code",
      "source": [
        "#name column\n",
        "data.name"
      ],
      "metadata": {
        "id": "9C7DrccViwNY"
      },
      "execution_count": null,
      "outputs": []
    },
    {
      "cell_type": "code",
      "source": [
        "data[data['name'].isnull()].head()"
      ],
      "metadata": {
        "id": "4P5rC-Fhi5yx"
      },
      "execution_count": null,
      "outputs": []
    },
    {
      "cell_type": "markdown",
      "source": [
        "**Observation:**\n",
        "\n",
        "1. This columns is having names describing the property which is host is trying to give on rent,so the nature of this names is short and consise and this is required as this can draw an attention of customer.\n",
        "2. The question arises that how to fill the missing values in this columns.we will explore further dataset and try to find out better options to fill the missing values.\n",
        "3. This Feature can be important in model building like Recommender systems.\n",
        "4. Of course there is no point in removing these cells although they are limited in numbers."
      ],
      "metadata": {
        "id": "1CbfoPBMjHAA"
      }
    },
    {
      "cell_type": "code",
      "source": [
        "data.room_type"
      ],
      "metadata": {
        "id": "M70ttnBekAaz"
      },
      "execution_count": null,
      "outputs": []
    },
    {
      "cell_type": "markdown",
      "source": [
        "**Observation:**\n",
        "\n",
        "1. room_type column is not having any null values,and also we can try to use this values in place of NAN values in name column this can solve our purpose and we can atleast put front what is the type of room!\n",
        "2. yes, we will replace the nan values with the values which are in room_type column."
      ],
      "metadata": {
        "id": "HnU5yEf9kGyn"
      }
    },
    {
      "cell_type": "code",
      "source": [
        "# This code snippit will replace the nan values.\n",
        "#fillna() method will do the job . . .\n",
        "data.name.fillna(data.room_type, inplace=True)"
      ],
      "metadata": {
        "id": "GeeF8h8QkcjZ"
      },
      "execution_count": null,
      "outputs": []
    },
    {
      "cell_type": "code",
      "source": [
        "#check the changes.\n",
        "data.isnull().sum()"
      ],
      "metadata": {
        "id": "AS-qbx2XlAdA"
      },
      "execution_count": null,
      "outputs": []
    },
    {
      "cell_type": "markdown",
      "source": [
        "**Observation:**\n",
        "1. We have replaced the nan values with corresponding room_type values.\n",
        "2. This should solve our purpose."
      ],
      "metadata": {
        "id": "o1Cekl5zlOpO"
      }
    },
    {
      "cell_type": "code",
      "source": [
        "#stop words removal:\n",
        "\"\"\"\n",
        "1) download the nltk stopwords in english.\n",
        "2) replace pantuation and special symbols.\n",
        "3) make it string and convert all into lower case.\n",
        "then split the words and compair each with the stopwords and keep only those which are not in stopword list.\n",
        "\"\"\"\n",
        "def stop_word_removal(df):\n",
        "  stop = stopwords.words('english')\n",
        "  df.name = df.name.str.replace(\"[^\\w\\s]\", \"\").str.lower()\n",
        "  df.name = df.name.apply(lambda x: ' '.join([item for item in x.split() if item not in stop]))"
      ],
      "metadata": {
        "id": "agaYfBuzl1it"
      },
      "execution_count": null,
      "outputs": []
    },
    {
      "cell_type": "code",
      "source": [
        "text = stop_word_removal(data)\n",
        "text = \" \".join(str(each) for each in data.name)"
      ],
      "metadata": {
        "id": "PfmCsndsnhzp"
      },
      "execution_count": null,
      "outputs": []
    },
    {
      "cell_type": "code",
      "source": [
        "#wordcloud generator.\n",
        "# Create and generate a word cloud image:\n",
        "wordcloud = WordCloud(max_words=300, background_color=\"black\").generate(text)\n",
        "plt.figure(figsize=(10,6))\n",
        "plt.figure(figsize=(15,10))\n",
        "# Display the generated image:\n",
        "plt.imshow(wordcloud,interpolation='bilinear')\n",
        "plt.axis(\"off\")\n",
        "plt.show()\n",
        "pass\n"
      ],
      "metadata": {
        "id": "wg64y5dqn-D1"
      },
      "execution_count": null,
      "outputs": []
    },
    {
      "cell_type": "markdown",
      "source": [
        "Observations:\n",
        "1. This word cloud shows us the most frequent words."
      ],
      "metadata": {
        "id": "tDBfi_zlqHdM"
      }
    },
    {
      "cell_type": "code",
      "source": [
        "#after removing stop words.\n",
        "data.name"
      ],
      "metadata": {
        "id": "RdP7VKOeqTkQ"
      },
      "execution_count": null,
      "outputs": []
    },
    {
      "cell_type": "markdown",
      "source": [
        "# **Top 50 words from word_cloud:**"
      ],
      "metadata": {
        "id": "ukl2hMuaqiKq"
      }
    },
    {
      "cell_type": "code",
      "source": [
        "#list of words.\n",
        "name_list = list(data.name.values)\n",
        "words = [ ]\n",
        "for i in name_list:\n",
        "  words+=i.split()"
      ],
      "metadata": {
        "id": "SbsyGonLqtYV"
      },
      "execution_count": null,
      "outputs": []
    },
    {
      "cell_type": "code",
      "source": [
        "#let's see top 50 used words .\n",
        "#https://www.kite.com/python/docs/collections.Counter.most_common\n",
        "_top_50_words=Counter(words).most_common()\n",
        "_top_50_words=_top_50_words[0:50]"
      ],
      "metadata": {
        "id": "3_Wy8G-YrGsD"
      },
      "execution_count": null,
      "outputs": []
    },
    {
      "cell_type": "code",
      "source": [
        "#dataframe for top 50 words.\n",
        "top_50_words = pd.DataFrame(_top_50_words,columns = ['words','frequency'])"
      ],
      "metadata": {
        "id": "9gjJij9Nr4GI"
      },
      "execution_count": null,
      "outputs": []
    },
    {
      "cell_type": "code",
      "source": [
        "# visualization\n",
        "plt.figure(figsize=(20,5))\n",
        "ax_1 = sns.barplot(x='words',y='frequency',data = top_50_words)\n",
        "ax_1.set_title('top 50 words')\n",
        "ax_1.set_ylabel('frequency of words')\n",
        "ax_1.set_xlabel('Words')\n",
        "ax_1.set_xticklabels(ax_1.get_xticklabels(), rotation=60)"
      ],
      "metadata": {
        "id": "-066JcnDsTEX"
      },
      "execution_count": null,
      "outputs": []
    },
    {
      "cell_type": "markdown",
      "source": [
        "Observations:\n",
        "1. The above observation shows us the top 50 words and there frequency.\n",
        "2. These words can he help full in model buliding point of view."
      ],
      "metadata": {
        "id": "pW5uoydZt08O"
      }
    },
    {
      "cell_type": "markdown",
      "source": [
        "# `2. **column_no_2 host_name:**`"
      ],
      "metadata": {
        "id": "QG9bx864uQqw"
      }
    },
    {
      "cell_type": "code",
      "source": [
        "data['host_name'].nunique()"
      ],
      "metadata": {
        "id": "-J4dChBSugKV"
      },
      "execution_count": null,
      "outputs": []
    },
    {
      "cell_type": "markdown",
      "source": [
        "**Observations:**\n",
        "\n",
        "1. host_name this column is defining the name of host(owner).\n",
        "2. There are 11452 unique hosts/owners we can use this featue directly in model building just by encoding it.response encoding will be usefull for this feature.\n",
        "3. we can take nan value as one data point for model building."
      ],
      "metadata": {
        "id": "6o_LmgB-utSI"
      }
    },
    {
      "cell_type": "markdown",
      "source": [
        "#### Chart - 2"
      ],
      "metadata": {
        "id": "KSlN3yHqYklG"
      }
    },
    {
      "cell_type": "code",
      "source": [
        "# Chart - 2 visualization code"
      ],
      "metadata": {
        "id": "R4YgtaqtYklH"
      },
      "execution_count": null,
      "outputs": []
    },
    {
      "cell_type": "markdown",
      "source": [
        "# **`3. column_no_3 neighbourhood_group:`**"
      ],
      "metadata": {
        "id": "hvqB_gGKvCOo"
      }
    },
    {
      "cell_type": "code",
      "source": [
        "data['neighbourhood_group']"
      ],
      "metadata": {
        "id": "AN0ytG-WvaP_"
      },
      "execution_count": null,
      "outputs": []
    },
    {
      "cell_type": "code",
      "source": [
        "data['neighbourhood_group'].unique()"
      ],
      "metadata": {
        "id": "iJ8Z84YFvjnK"
      },
      "execution_count": null,
      "outputs": []
    },
    {
      "cell_type": "code",
      "source": [
        "#count_plot\n",
        "plt.figure(figsize=(10,5))\n",
        "ax_3 = sns.countplot(x='neighbourhood_group',data = data)\n",
        "ax_3.set_title('Count of neighbourhood_group')\n",
        "ax_3.set_ylabel('frequency')\n",
        "ax_3.set_xlabel('neighbourhood_group')\n",
        "plt.show()"
      ],
      "metadata": {
        "id": "hxS23JFqvr9j"
      },
      "execution_count": null,
      "outputs": []
    },
    {
      "cell_type": "markdown",
      "source": [
        "**Observation:**\n",
        "1. Brooklyn and Manhattan have the highest hotel/room bookings."
      ],
      "metadata": {
        "id": "Z3k_vdMbwzny"
      }
    },
    {
      "cell_type": "markdown",
      "source": [
        "#### Chart - 3"
      ],
      "metadata": {
        "id": "EM7whBJCYoAo"
      }
    },
    {
      "cell_type": "code",
      "source": [
        "# Chart - 3 visualization code"
      ],
      "metadata": {
        "id": "t6GMdE67YoAp"
      },
      "execution_count": null,
      "outputs": []
    },
    {
      "cell_type": "markdown",
      "source": [
        "# **`4) column_no_4 neighbourhood:`**"
      ],
      "metadata": {
        "id": "7dSl0ogJxLAq"
      }
    },
    {
      "cell_type": "code",
      "source": [
        "neigh_unique_values = data['neighbourhood'].value_counts()\n",
        "neigh_unique_values"
      ],
      "metadata": {
        "id": "O4bp2XrUxmPu"
      },
      "execution_count": null,
      "outputs": []
    },
    {
      "cell_type": "markdown",
      "source": [
        "**Observations:**\n",
        "\n",
        "1. There are 221 unique neighbour."
      ],
      "metadata": {
        "id": "UfRsU3sNx7Yl"
      }
    },
    {
      "cell_type": "markdown",
      "source": [
        "**Top 50 most common neighbours**"
      ],
      "metadata": {
        "id": "OQV9MnyOyKoi"
      }
    },
    {
      "cell_type": "code",
      "source": [
        "# most_common() Return a list of the n most common elements and their counts from the most common to the least.\n",
        "top_50_=Counter(data['neighbourhood']).most_common()\n",
        "top_50_=top_50_[0:50]\n",
        "top_50_[:20]"
      ],
      "metadata": {
        "id": "tezdYvAiySYt"
      },
      "execution_count": null,
      "outputs": []
    },
    {
      "cell_type": "code",
      "source": [
        "#count_plot\n",
        "plt.figure(figsize=(20,5))\n",
        "ax_4 = sns.barplot(x='neighbourhood',y='count', data = pd.DataFrame(top_50_,columns=['neighbourhood','count'][:20]))\n",
        "ax_4.set_title('Count of Neighbourhood')\n",
        "ax_4.set_ylabel('Frequency')\n",
        "ax_4.set_xlabel('Neighbourhood')\n",
        "ax_4.set_xticklabels(ax_4.get_xticklabels(), rotation=80);\n",
        "plt.show()"
      ],
      "metadata": {
        "id": "RIgbhuzVzA91"
      },
      "execution_count": null,
      "outputs": []
    },
    {
      "cell_type": "markdown",
      "source": [
        "**Observations**:\n",
        "\n",
        "1. The above plot shows us some of the top Neighbours towns we can say.\n",
        "2. People like to stay at these towns more offent."
      ],
      "metadata": {
        "id": "BA5hMg0I0bbI"
      }
    },
    {
      "cell_type": "markdown",
      "source": [
        "#### Chart - 4"
      ],
      "metadata": {
        "id": "4Of9eVA-YrdM"
      }
    },
    {
      "cell_type": "code",
      "source": [
        "# Chart - 4 visualization code"
      ],
      "metadata": {
        "id": "irlUoxc8YrdO"
      },
      "execution_count": null,
      "outputs": []
    },
    {
      "cell_type": "markdown",
      "source": [
        "# **`5. column_no_5 latitude & longitude:`**"
      ],
      "metadata": {
        "id": "82ZANLA40xY4"
      }
    },
    {
      "cell_type": "code",
      "source": [
        "data[['latitude','longitude']]"
      ],
      "metadata": {
        "id": "8nS-2_sX07aL"
      },
      "execution_count": null,
      "outputs": []
    },
    {
      "cell_type": "markdown",
      "source": [
        "Observation:\n",
        "1. We can see the exact locations from this columns."
      ],
      "metadata": {
        "id": "uj32YdNV1E5d"
      }
    },
    {
      "cell_type": "code",
      "source": [
        "# simple scatterplot\n",
        "\n",
        "plt.figure(figsize=(10,6))\n",
        "ax_5 = sns.scatterplot(data.longitude,data.latitude,hue=data.neighbourhood_group)\n",
        "ax_5.set_title('Density of rooms')\n",
        "ax_5.set_ylabel('latitude')\n",
        "ax_5.set_xlabel('longitude')\n",
        "plt.show()"
      ],
      "metadata": {
        "id": "0roH0foZ1Opd"
      },
      "execution_count": null,
      "outputs": []
    },
    {
      "cell_type": "markdown",
      "source": [
        "**Observations:**\n",
        "\n",
        "1. latitude and longtitude visulalizes us that Brooklyn and Manhattan are the most dense with hotels and apartments followed by queens island."
      ],
      "metadata": {
        "id": "XB_MT1He3iHQ"
      }
    },
    {
      "cell_type": "markdown",
      "source": [
        "#### Chart - 5"
      ],
      "metadata": {
        "id": "bamQiAODYuh1"
      }
    },
    {
      "cell_type": "code",
      "source": [
        "# Chart - 5 visualization code"
      ],
      "metadata": {
        "id": "TIJwrbroYuh3"
      },
      "execution_count": null,
      "outputs": []
    },
    {
      "cell_type": "markdown",
      "source": [
        "# **`6. Column_no_6 room_type:`**"
      ],
      "metadata": {
        "id": "3vZRU5UX3rJc"
      }
    },
    {
      "cell_type": "code",
      "source": [
        "data[['room_type']].nunique()"
      ],
      "metadata": {
        "id": "JRnj7CXx37r5"
      },
      "execution_count": null,
      "outputs": []
    },
    {
      "cell_type": "code",
      "source": [
        "# count_plot'\n",
        "plt.figure(figsize=(10,5))\n",
        "sns_6 = sns.countplot(x='room_type',data = data)\n",
        "sns_6.set_title('frequency_plot')\n",
        "sns_6.set_ylabel('frequency')\n",
        "sns_6.set_xlabel('room_type')\n",
        "plt.show()"
      ],
      "metadata": {
        "id": "ENOMPPqU4Fp1"
      },
      "execution_count": null,
      "outputs": []
    },
    {
      "cell_type": "markdown",
      "source": [
        "Observations\n",
        "\n",
        "1. There are three types of rooms\n",
        "\n",
        "2. Namely:\n",
        "\n",
        "1.Private room\n",
        "\n",
        "2.Entire home/apt room_type\n",
        "\n",
        "3.Shared room.\n",
        "\n",
        "3. People mostly prefered to take whole apartment on rent followed by Private room.\n",
        "4. very few people prefered to have shared rooms.\n",
        "\n",
        "We will try to catagorise the 'price'like cheap,affordable and expensive and then analyse the 'price' for 'room_type' as per it."
      ],
      "metadata": {
        "id": "Hpv3jGBu42d7"
      }
    },
    {
      "cell_type": "markdown",
      "source": [
        "#### Chart - 6"
      ],
      "metadata": {
        "id": "OH-pJp9IphqM"
      }
    },
    {
      "cell_type": "code",
      "source": [
        "# Chart - 6 visualization code"
      ],
      "metadata": {
        "id": "kuRf4wtuphqN"
      },
      "execution_count": null,
      "outputs": []
    },
    {
      "cell_type": "markdown",
      "source": [
        "# **`7. column_no_7 price:`**"
      ],
      "metadata": {
        "id": "UhZm8_N75fVE"
      }
    },
    {
      "cell_type": "code",
      "source": [
        "data[['price']].describe()"
      ],
      "metadata": {
        "id": "IvhVK3Ay5mxx"
      },
      "execution_count": null,
      "outputs": []
    },
    {
      "cell_type": "code",
      "source": [
        "#function to catagory the types of rooms.\n",
        "def price_catagory(price):\n",
        "  if price<=80:\n",
        "    return 'cheap'\n",
        "  elif price>=80 and price<=500:\n",
        "    return 'affordable'\n",
        "  else:\n",
        "    return 'Expensive'"
      ],
      "metadata": {
        "id": "1e1YYVK555hj"
      },
      "execution_count": null,
      "outputs": []
    },
    {
      "cell_type": "code",
      "source": [
        "plt.figure(figsize=(10,5))\n",
        "ax_7 = sns.countplot(x=data['price'].apply(price_catagory))\n",
        "ax_7.set_title('Count Plot')\n",
        "ax_7.set_xlabel('Catagories of rooms')\n",
        "ax_7.set_ylabel(\"count\")\n",
        "plt.show()"
      ],
      "metadata": {
        "id": "D7gHCqH76qRD"
      },
      "execution_count": null,
      "outputs": []
    },
    {
      "cell_type": "markdown",
      "source": [
        "**Observations**\n",
        "\n",
        "1. We have considered to devide the whole price range into three catogories\n",
        "\n",
        " a.cheap (price range below or equal to 80$)\n",
        "\n",
        " b.Affordable(for price range 80 to 500$)\n",
        "\n",
        " c.Expensive(for price range more then 500$)\n",
        "\n",
        "So, it look like people have more intrest in having \"affordable\" rooms/apartments rather than having cheap and expensive rooms."
      ],
      "metadata": {
        "id": "5cvCX5qv7XVe"
      }
    },
    {
      "cell_type": "markdown",
      "source": [
        "#### Chart - 7"
      ],
      "metadata": {
        "id": "PIIx-8_IphqN"
      }
    },
    {
      "cell_type": "code",
      "source": [
        "# Chart - 7 visualization code"
      ],
      "metadata": {
        "id": "lqAIGUfyphqO"
      },
      "execution_count": null,
      "outputs": []
    },
    {
      "cell_type": "markdown",
      "source": [
        "# **`8. column_no_8 minimum_nights:`**"
      ],
      "metadata": {
        "id": "JU3skgTXKVRJ"
      }
    },
    {
      "cell_type": "code",
      "source": [
        "data[['minimum_nights']].value_counts()"
      ],
      "metadata": {
        "id": "9cqpBbyMLZHV"
      },
      "execution_count": null,
      "outputs": []
    },
    {
      "cell_type": "code",
      "source": [
        "data[['minimum_nights']].describe()"
      ],
      "metadata": {
        "id": "ICOeGUmrLoH9"
      },
      "execution_count": null,
      "outputs": []
    },
    {
      "cell_type": "code",
      "source": [
        "ax = sns.distplot(data.minimum_nights)\n",
        "plt.title('Minimum no. of nights distribution')\n",
        "plt.show()"
      ],
      "metadata": {
        "id": "9YLsc0moLw0x"
      },
      "execution_count": null,
      "outputs": []
    },
    {
      "cell_type": "markdown",
      "source": [
        "**observation:** \n",
        "\n",
        "1. most of the nights booked are from 0 to less than 100 days.\n",
        "\n",
        "we will plot further and see.\n",
        "\n",
        "2. we can see that there may be outliers.we can plot and check it.\n",
        "3. we will plot, box plot and check.\n",
        "4. log scale can show us the shape of skwed data.\n",
        "\n",
        "Note:How do you handle skewed data in Python?\n",
        "\n",
        "One way of handling right, or left, skewed data is to carry out the logarithmic transformation on our data. For example, np.log(x) will log transform the variable x in Python. There are other options as well as the Box-Cox and Square root transformations.\n",
        "\n",
        "**Observations From statistics:**\n",
        "\n",
        "1. Average booking is around 7 nights.\n",
        "2. minimum booking is for 1 night.\n",
        "3. max booking is for more then a year or we can say for few years."
      ],
      "metadata": {
        "id": "ykURs4U3Mh3v"
      }
    },
    {
      "cell_type": "code",
      "source": [
        "#https://www.marsja.se/transform-skewed-data-using-square-root-log-box-cox-methods-in-python/#Log_Transformation\n",
        "#https://seaborn.pydata.org/generated/seaborn.distplot.html\n",
        "from scipy.stats import boxcox \n",
        "# power transform \n",
        "data_box_cox_transform = boxcox(data.minimum_nights) #lambda=0 it means log transform by defination of box-cox transform"
      ],
      "metadata": {
        "id": "g1L3KDiTNbbP"
      },
      "execution_count": null,
      "outputs": []
    },
    {
      "cell_type": "code",
      "source": [
        "data_box_cox_transform"
      ],
      "metadata": {
        "id": "Rn_t6x_nOPAY"
      },
      "execution_count": null,
      "outputs": []
    },
    {
      "cell_type": "code",
      "source": [
        "# plot for box-cox transformed data.\n",
        "sns.set_theme(); np.random.seed(0)\n",
        "plt.figure(figsize=(10,5))\n",
        "ax = sns.displot(data_box_cox_transform)\n",
        "plt.title('Minimum no. of nights distribution')"
      ],
      "metadata": {
        "id": "aSRKVNb3OUSl"
      },
      "execution_count": null,
      "outputs": []
    },
    {
      "cell_type": "markdown",
      "source": [
        "**Observations**:\n",
        "\n",
        "1. it's very clear that the data is right skwed."
      ],
      "metadata": {
        "id": "zZUlUJPePWwO"
      }
    },
    {
      "cell_type": "code",
      "source": [
        "log_transform = np.log(data['minimum_nights'])"
      ],
      "metadata": {
        "id": "HDC8D3EUPgBz"
      },
      "execution_count": null,
      "outputs": []
    },
    {
      "cell_type": "code",
      "source": [
        "ax = sns.distplot(log_transform)\n",
        "plt.title('Minimum no. of nights distribution')"
      ],
      "metadata": {
        "id": "zK0gBdECP8xg"
      },
      "execution_count": null,
      "outputs": []
    },
    {
      "cell_type": "markdown",
      "source": [
        "**Observations:**\n",
        "\n",
        "1. This plots shows that majority of room booking is one for 1 to 4 days.\n",
        "\n",
        "2. Box-Cox transformed plot strictly shows that the majority of booking lies between 0 to 3 days.we have set the lambda parameter not equal to zero so it by defination of box-cox transform selected the best value of lambda."
      ],
      "metadata": {
        "id": "VSKzvIl4Rrfe"
      }
    },
    {
      "cell_type": "markdown",
      "source": [
        "#### Chart - 8"
      ],
      "metadata": {
        "id": "BZR9WyysphqO"
      }
    },
    {
      "cell_type": "code",
      "source": [
        "# Chart - 8 visualization code"
      ],
      "metadata": {
        "id": "TdPTWpAVphqO"
      },
      "execution_count": null,
      "outputs": []
    },
    {
      "cell_type": "markdown",
      "source": [
        "# **`9. column_no_9 Number_of_reviews:`**"
      ],
      "metadata": {
        "id": "nZQcF7xIR4_M"
      }
    },
    {
      "cell_type": "code",
      "source": [
        "data[['number_of_reviews']].value_counts()"
      ],
      "metadata": {
        "id": "i-_SPvnmSWqa"
      },
      "execution_count": null,
      "outputs": []
    },
    {
      "cell_type": "code",
      "source": [
        "data[['number_of_reviews']].describe()"
      ],
      "metadata": {
        "id": "ZnIbP4AWSjf4"
      },
      "execution_count": null,
      "outputs": []
    },
    {
      "cell_type": "code",
      "source": [
        "plt.figure(figsize=(10,5))\n",
        "ax = sns.distplot(x=data[\"number_of_reviews\"])\n",
        "plt.title('number_of_reviews')"
      ],
      "metadata": {
        "id": "h4h7OeGrSsbY"
      },
      "execution_count": null,
      "outputs": []
    },
    {
      "cell_type": "markdown",
      "source": [
        "**Observatios:**\n",
        "\n",
        "1. Number of reviews are highly dense form 0 to 100 reviews.\n",
        "\n",
        "2. we can say that most of the rooms are not rated and those which are frequently occupied only those are rated.\n",
        "\n",
        "3. maximun 629 times the perticular room is rated.\n",
        "\n",
        "4. Average rating is around 23."
      ],
      "metadata": {
        "id": "-nmOhYEFTSL-"
      }
    },
    {
      "cell_type": "markdown",
      "source": [
        "# **`10. column_no_10 last_review:`**"
      ],
      "metadata": {
        "id": "VzU0qZTVTp0M"
      }
    },
    {
      "cell_type": "code",
      "source": [
        "data[['last_review']]"
      ],
      "metadata": {
        "id": "vw_2oJwcUBN_"
      },
      "execution_count": null,
      "outputs": []
    },
    {
      "cell_type": "markdown",
      "source": [
        "**Observations:**\n",
        "\n",
        "1. This is the column which signifies the last time the room was given review.\n",
        "2. secondly,there are certain rooms which are not reviewd at all, it can happen that no one had visited till now or not bothered to give review to those rooms.\n",
        "3. Also there are nan valuse these values can either be filled with the help of domain expert or with suitable value like since no one has reviwed we will fill it up with 'zeros'."
      ],
      "metadata": {
        "id": "3IEW0tA9UlP_"
      }
    },
    {
      "cell_type": "markdown",
      "source": [
        "# **`column_no_9 reviews_per_month:`**"
      ],
      "metadata": {
        "id": "KZ890LihVrj-"
      }
    },
    {
      "cell_type": "code",
      "source": [
        "data[[\"reviews_per_month\"]].describe()"
      ],
      "metadata": {
        "id": "_zL7lzZmVeIl"
      },
      "execution_count": null,
      "outputs": []
    },
    {
      "cell_type": "markdown",
      "source": [
        "**Observations**:\n",
        "\n",
        "1. max is 58 times the rating is given.\n",
        "2. min is 0.\n",
        "3. 75% of data is for 1.5 time rating."
      ],
      "metadata": {
        "id": "JJgsY6NNWFqA"
      }
    },
    {
      "cell_type": "markdown",
      "source": [
        "# **`column_no_10 calculated_host_listings_count:`**"
      ],
      "metadata": {
        "id": "e1qsCTuVgSFB"
      }
    },
    {
      "cell_type": "code",
      "source": [
        "Counter(data['calculated_host_listings_count']).most_common(50)\n",
        "#Counter( data['neighbourhood']).most_common()"
      ],
      "metadata": {
        "id": "LXpM8KhPgbR2"
      },
      "execution_count": null,
      "outputs": []
    },
    {
      "cell_type": "code",
      "source": [
        "print('1. There is one host who is {} time listed. '.format(data.calculated_host_listings_count.max()))\n",
        "print('2. This is the corresponding host_id {} who is having highest listing. ' .format(data.host_id.value_counts().idxmax()))\n",
        "print('2. This is the corresponding host_id {} who is having lowest listing. ' .format(data.host_id.value_counts().idxmin()))"
      ],
      "metadata": {
        "id": "qMNCFRM0gjC1"
      },
      "execution_count": null,
      "outputs": []
    },
    {
      "cell_type": "markdown",
      "source": [
        "#### Chart - 9"
      ],
      "metadata": {
        "id": "YJ55k-q6phqO"
      }
    },
    {
      "cell_type": "code",
      "source": [
        "# Chart - 9 visualization code"
      ],
      "metadata": {
        "id": "B2aS4O1ophqO"
      },
      "execution_count": null,
      "outputs": []
    },
    {
      "cell_type": "markdown",
      "source": [
        "# **`11. column_no_11 availability_365:`**"
      ],
      "metadata": {
        "id": "h9fUNcEbVMWl"
      }
    },
    {
      "cell_type": "code",
      "source": [
        "data[['availability_365']].value_counts()"
      ],
      "metadata": {
        "id": "L7Scc0IPhFXt"
      },
      "execution_count": null,
      "outputs": []
    },
    {
      "cell_type": "code",
      "source": [
        "ax = sns.scatterplot(data=data,x='availability_365',y='price')\n",
        "plt.title(\"Scatter_availability_365\")"
      ],
      "metadata": {
        "id": "gc_WLv22hQPk"
      },
      "execution_count": null,
      "outputs": []
    },
    {
      "cell_type": "markdown",
      "source": [
        "**Observations:**\n",
        "\n",
        "1. From above plot we can see that most of the available rooms are in the price range of 0 to 2000.\n",
        "2. Very few are available for price above 2000$, this is quite obivious that there are very few peoples who prefer to have expensive rooms."
      ],
      "metadata": {
        "id": "S97DYmrMhp1l"
      }
    },
    {
      "cell_type": "markdown",
      "source": [
        "# **Multivariate Analysis:**"
      ],
      "metadata": {
        "id": "knr1Y7wqh31L"
      }
    },
    {
      "cell_type": "code",
      "source": [
        "data.columns"
      ],
      "metadata": {
        "id": "ue_oBz6yh_Q3"
      },
      "execution_count": null,
      "outputs": []
    },
    {
      "cell_type": "markdown",
      "source": [
        "#### Chart - 10"
      ],
      "metadata": {
        "id": "U2RJ9gkRphqQ"
      }
    },
    {
      "cell_type": "code",
      "source": [
        "# Chart - 10 visualization code"
      ],
      "metadata": {
        "id": "GM7a4YP4phqQ"
      },
      "execution_count": null,
      "outputs": []
    },
    {
      "cell_type": "markdown",
      "source": [
        "# **Lets find the relation between neighbourhood_group and price:**"
      ],
      "metadata": {
        "id": "B5sDmgsGiFhW"
      }
    },
    {
      "cell_type": "code",
      "source": [
        "price_df = pd.DataFrame(data['price'].apply(price_catagory))"
      ],
      "metadata": {
        "id": "PFQv5E6kiSEV"
      },
      "execution_count": null,
      "outputs": []
    },
    {
      "cell_type": "code",
      "source": [
        "price_df.head()"
      ],
      "metadata": {
        "id": "h_imdB_pinnP"
      },
      "execution_count": null,
      "outputs": []
    },
    {
      "cell_type": "code",
      "source": [
        "plt.style.use('fivethirtyeight')\n",
        "price_500 = data[data.price <700]\n",
        "plt.figure(figsize=(10,6))\n",
        "plt.title(\"price for each neighbourhood_group\")\n",
        "sns.boxplot(y= 'price',x= 'neighbourhood_group',data=price_500)\n",
        "plt.show()"
      ],
      "metadata": {
        "id": "QQpGs3g9iur_"
      },
      "execution_count": null,
      "outputs": []
    },
    {
      "cell_type": "markdown",
      "source": [
        "**Observations:**\n",
        "\n",
        "1. We can see that Manhattan is the most expensive destination immediatly followed by Brooklyn.\n",
        "2. Queens, staten island and Bronx, are having price range less as compared to\n",
        "other two."
      ],
      "metadata": {
        "id": "a7vk7n73kgEG"
      }
    },
    {
      "cell_type": "markdown",
      "source": [
        "#### Chart - 11"
      ],
      "metadata": {
        "id": "x-EpHcCOp1ci"
      }
    },
    {
      "cell_type": "code",
      "source": [
        "# Chart - 11 visualization code"
      ],
      "metadata": {
        "id": "mAQTIvtqp1cj"
      },
      "execution_count": null,
      "outputs": []
    },
    {
      "cell_type": "markdown",
      "source": [
        "# **Relationship between neighbourhood_group and median price.**"
      ],
      "metadata": {
        "id": "6KrBmr_9kt1l"
      }
    },
    {
      "cell_type": "code",
      "source": [
        "#grouping median price with neighbourhood_group \n",
        "neigh_group_price_group = data.groupby(['neighbourhood_group']).agg({'price':'median'}).reset_index()"
      ],
      "metadata": {
        "id": "BnmQ0twHk5nl"
      },
      "execution_count": null,
      "outputs": []
    },
    {
      "cell_type": "code",
      "source": [
        "neigh_group_price_group"
      ],
      "metadata": {
        "id": "eKgOeGCfld0a"
      },
      "execution_count": null,
      "outputs": []
    },
    {
      "cell_type": "code",
      "source": [
        "#barplot for price variation and neighbourhood.\n",
        "plt.figure(figsize=(15,5))\n",
        "ax_12 = sns.barplot(x = 'neighbourhood_group',y = 'price',data = neigh_group_price_group)\n",
        "ax_12.set_title(' Median_price vs Neighbourhood_group')\n",
        "ax_12.set_xlabel('neighbourhood_group')\n",
        "ax_12.set_ylabel(\"Median_price\")\n",
        "plt.show()"
      ],
      "metadata": {
        "id": "4EJJypwJlkLV"
      },
      "execution_count": null,
      "outputs": []
    },
    {
      "cell_type": "markdown",
      "source": [
        "**Observations:**\n",
        "\n",
        "1. 'Manhattan' is the area having highest median price,followed by Brooklyn."
      ],
      "metadata": {
        "id": "unTDY3bIlqbv"
      }
    },
    {
      "cell_type": "markdown",
      "source": [
        "#### Chart - 12"
      ],
      "metadata": {
        "id": "n3dbpmDWp1ck"
      }
    },
    {
      "cell_type": "code",
      "source": [
        "# Chart - 12 visualization code"
      ],
      "metadata": {
        "id": "bwevp1tKp1ck"
      },
      "execution_count": null,
      "outputs": []
    },
    {
      "cell_type": "markdown",
      "source": [
        "# **Lets find the relation between neighbourhood and price:**"
      ],
      "metadata": {
        "id": "aBTC3ySnl287"
      }
    },
    {
      "cell_type": "markdown",
      "source": [
        "# * We will make group of all neighbourhood who are having median of price variable. \n",
        "# * Median have less impact of outliers as compared to mean."
      ],
      "metadata": {
        "id": "Z-FL8iuXmCes"
      }
    },
    {
      "cell_type": "code",
      "source": [
        "data[['neighbourhood']].nunique()"
      ],
      "metadata": {
        "id": "A8rs7K7omfNv"
      },
      "execution_count": null,
      "outputs": []
    },
    {
      "cell_type": "code",
      "source": [
        "#we will\n",
        "neigh_price_group = data.groupby(['neighbourhood']).agg({'price':'median'}).reset_index()"
      ],
      "metadata": {
        "id": "qFYnkigLmodt"
      },
      "execution_count": null,
      "outputs": []
    },
    {
      "cell_type": "code",
      "source": [
        "neigh_price_group"
      ],
      "metadata": {
        "id": "JHmwILjjm9u_"
      },
      "execution_count": null,
      "outputs": []
    },
    {
      "cell_type": "code",
      "source": [
        "#barplot for price variation and neighbourhood.\n",
        "plt.figure(figsize=(15,5))\n",
        "sns.barplot(x = 'neighbourhood',y = 'price',data = neigh_price_group.head(10))\n",
        "plt.title(\"Median_price Vs neighbourhood\")\n",
        "plt.show()"
      ],
      "metadata": {
        "id": "TCLqgg2inDaQ"
      },
      "execution_count": null,
      "outputs": []
    },
    {
      "cell_type": "markdown",
      "source": [
        "**Observations**:\n",
        "\n",
        "1. The price variation considering median value tells us that 'Allerton', 'Asden Heights','Arrochar',and other are the top 10 neighbourhoods.\n",
        "2. 'Battery Park city' is having high price in Top 10 neighbourhoods."
      ],
      "metadata": {
        "id": "b0RNJrnZnLGY"
      }
    },
    {
      "cell_type": "markdown",
      "source": [
        "#### Chart - 13"
      ],
      "metadata": {
        "id": "Ag9LCva-p1cl"
      }
    },
    {
      "cell_type": "code",
      "source": [
        "# Chart - 13 visualization code"
      ],
      "metadata": {
        "id": "EUfxeq9-p1cl"
      },
      "execution_count": null,
      "outputs": []
    },
    {
      "cell_type": "markdown",
      "source": [
        "# **Relationship between price and room_type.**"
      ],
      "metadata": {
        "id": "3RxDhhsBng2u"
      }
    },
    {
      "cell_type": "code",
      "source": [
        "plt.figure(figsize = (15,5))\n",
        "ax_8 = sns.barplot(y= 'price', x= 'room_type',data=data)\n",
        "ax_8.set_title('Price vs Room Type')\n",
        "ax_8.set_xlabel('Room Type')\n",
        "ax_8.set_ylabel(\"Price\")\n",
        "plt.show()"
      ],
      "metadata": {
        "id": "sZDYuY4Wnove"
      },
      "execution_count": null,
      "outputs": []
    },
    {
      "cell_type": "markdown",
      "source": [
        "**Observations:**\n",
        "\n",
        "1. we can see that most of the prices for all type of rooms lies within 2000$\n",
        "2. shared rooms prices are having very less price\n",
        "3. very few rooms are there which are in expensive cataagory.\n",
        "4. large number of rooms are available in either entire room/apartment or private rooms/apartment."
      ],
      "metadata": {
        "id": "v2gfbGxrntlU"
      }
    },
    {
      "cell_type": "code",
      "source": [
        "data[\"number_of_reviews\"].value_counts()"
      ],
      "metadata": {
        "id": "NTAu7Hjin_5q"
      },
      "execution_count": null,
      "outputs": []
    },
    {
      "cell_type": "markdown",
      "source": [
        "# **Relationship between room_type and neighbourhood_group.**"
      ],
      "metadata": {
        "id": "SaipAwe7oHS7"
      }
    },
    {
      "cell_type": "code",
      "source": [
        "plt.figure(figsize = (10,5))\n",
        "ax_11 = sns.countplot(x='room_type',hue='neighbourhood_group',data=data)\n",
        "ax_11.set_title(' Room Type vs neighbourhood_group')\n",
        "ax_11.set_xlabel('Room Type')\n",
        "ax_11.set_ylabel(\"neighbourhood_group\")\n",
        "plt.show()"
      ],
      "metadata": {
        "id": "fO7KAmCioL1j"
      },
      "execution_count": null,
      "outputs": []
    },
    {
      "cell_type": "markdown",
      "source": [
        "# **Which neighbourhood are generating maximum,minimum,reveneus from room types.**"
      ],
      "metadata": {
        "id": "SaJCqpbXoYOD"
      }
    },
    {
      "cell_type": "code",
      "source": [
        "room_type_df = data.groupby(['neighbourhood','room_type']).agg({'price':'sum'})\n",
        "room_type_df.sort_values(\"price\",ascending=False)"
      ],
      "metadata": {
        "id": "8PJGgIavocmP"
      },
      "execution_count": null,
      "outputs": []
    },
    {
      "cell_type": "code",
      "source": [
        "room_type_df = pd.pivot_table(room_type_df, values='price', index=['neighbourhood'], columns=['room_type'])"
      ],
      "metadata": {
        "id": "YKgrO27EokDE"
      },
      "execution_count": null,
      "outputs": []
    },
    {
      "cell_type": "code",
      "source": [
        "room_type_df.head()"
      ],
      "metadata": {
        "id": "NWPMWokgolIr"
      },
      "execution_count": null,
      "outputs": []
    },
    {
      "cell_type": "code",
      "source": [
        "print(\"******* Maximun revenue in Entire home/apt...*********\",'\\n')\n",
        "print(room_type_df.sort_values('Entire home/apt',ascending=False).head(1),'\\n')\n",
        "\n",
        "print(\"***********************************************************************\",'\\n')\n",
        "\n",
        "print(\"******* minimun revenue in Entire home/apt...*********\",'\\n')\n",
        "print(room_type_df.sort_values('Entire home/apt',ascending=True).head(1),'\\n')\n",
        "\n",
        "print(\"***********************************************************************\",'\\n')\n",
        "\n",
        "print(\"******* Maximun revenue in Private room...*********\",'\\n')\n",
        "print(room_type_df.sort_values('Private room',ascending=False).head(1),'\\n')\n",
        "\n",
        "print(\"***********************************************************************\",'\\n')\n",
        "\n",
        "print(\"******* Minimun revenue in Private room...*********\",'\\n')\n",
        "print(room_type_df.sort_values('Private room',ascending=True).head(1),'\\n')\n",
        "\n",
        "\n",
        "\n",
        "print(\"***********************************************************************\",'\\n')\n",
        "\n",
        "print(\"******* Maximun revenue in Shared room...*********\",'\\n')\n",
        "print(room_type_df.sort_values('Shared room',ascending=False).head(1),'\\n')\n",
        "\n",
        "\n",
        "\n",
        "print(\"***********************************************************************\",'\\n')\n",
        "\n",
        "print(\"******* Minimum revenue in Shared room...*********\",'\\n')\n",
        "print(room_type_df.sort_values('Shared room',ascending=True).head(1),'\\n')\n",
        "\n"
      ],
      "metadata": {
        "id": "sNbngHQsoyjv"
      },
      "execution_count": null,
      "outputs": []
    },
    {
      "cell_type": "markdown",
      "source": [
        "# **Conclusion**"
      ],
      "metadata": {
        "id": "gCX9965dhzqZ"
      }
    },
    {
      "cell_type": "markdown",
      "source": [
        "**We tried to put some light by performed the Extensive EDA for Airbnb dataset as always there is no end to EDA this can be extended in n-dimenssions and lots and lots of conclusion can be drawn from EDA this is where 80% of time is been spent by a Data Scientist.**"
      ],
      "metadata": {
        "id": "Fjb1IsQkh3yE"
      }
    },
    {
      "cell_type": "markdown",
      "source": [
        "### ***Hurrah! You have successfully completed your EDA Capstone Project !!!***"
      ],
      "metadata": {
        "id": "gIfDvo9L0UH2"
      }
    }
  ]
}